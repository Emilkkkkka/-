{
  "nbformat": 4,
  "nbformat_minor": 0,
  "metadata": {
    "colab": {
      "provenance": []
    },
    "kernelspec": {
      "name": "python3",
      "display_name": "Python 3"
    },
    "language_info": {
      "name": "python"
    }
  },
  "cells": [
    {
      "cell_type": "markdown",
      "source": [
        "<p align=\"center\"><b><font color=\"red\">Визитная карточка</front></b></p>"
      ],
      "metadata": {
        "id": "g4amfgBzwxz-"
      }
    },
    {
      "cell_type": "markdown",
      "source": [
        "***Иванов Иван Иванович***"
      ],
      "metadata": {
        "id": "2665Wdy4xEDl"
      }
    },
    {
      "cell_type": "markdown",
      "source": [
        "<i>Информация о человеке:</i>\n",
        "<ul>\n",
        "<li>Пол - Мужской </li>\n",
        "<li>Возраст - 46 лет </li>\n",
        "<li>Семейное положение - женат на драконихе </li>\n",
        "<li>Количество ослят - 6 </li>\n",
        "<li>Место жительства - Дом Шрэка и Фионы </li>\n",
        "</ul>"
      ],
      "metadata": {
        "id": "Pre4e0bFyADx"
      }
    },
    {
      "cell_type": "markdown",
      "source": [
        "![image](https://kartinki.pics/uploads/posts/2022-02/1645505028_1-kartinkin-net-p-osel-iz-shreka-kartinki-1.jpg)"
      ],
      "metadata": {
        "id": "cQzHmCsJyjoZ"
      }
    },
    {
      "cell_type": "markdown",
      "source": [
        "(https://ru.wikipedia.org/wiki/%D0%9E%D1%81%D1%91%D0%BB_(%D0%A8%D1%80%D0%B5%D0%BA))\n"
      ],
      "metadata": {
        "id": "22NvGQu9z78a"
      }
    },
    {
      "cell_type": "markdown",
      "source": [
        "$$y(x) = \\frac{\\sum_{i=1}^{n} \\sum_{j=2}^{m} 9^2_i x_j}{\\sqrt{\\frac{9}{W^2}}} $$"
      ],
      "metadata": {
        "id": "JQvUvnYF1w3A"
      }
    }
  ]
}